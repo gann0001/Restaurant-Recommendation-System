{
 "cells": [
  {
   "cell_type": "code",
   "execution_count": 1,
   "metadata": {},
   "outputs": [],
   "source": [
    "import numpy as np\n",
    "import pandas as pd\n",
    "from sklearn.model_selection import train_test_split\n",
    "from sklearn.feature_extraction.text import TfidfVectorizer\n",
    "from sklearn.feature_extraction.text import CountVectorizer\n",
    "from nltk.corpus import stopwords \n",
    "from nltk.tokenize import WordPunctTokenizer"
   ]
  },
  {
   "cell_type": "code",
   "execution_count": 2,
   "metadata": {},
   "outputs": [],
   "source": [
    "df = pd.read_csv('dataset_food_online.txt', encoding = \"ISO-8859-1\")"
   ]
  },
  {
   "cell_type": "code",
   "execution_count": 3,
   "metadata": {},
   "outputs": [
    {
     "data": {
      "text/plain": [
       "business_id    0\n",
       "date           0\n",
       "review_id      0\n",
       "stars          0\n",
       "text           0\n",
       "type           0\n",
       "user_id        0\n",
       "cool           0\n",
       "useful         0\n",
       "funny          0\n",
       "dtype: int64"
      ]
     },
     "execution_count": 3,
     "metadata": {},
     "output_type": "execute_result"
    }
   ],
   "source": [
    "#Check Null values in Dataframe\n",
    "df.isnull().sum()"
   ]
  },
  {
   "cell_type": "code",
   "execution_count": 4,
   "metadata": {},
   "outputs": [],
   "source": [
    "import string\n",
    "import re\n",
    "def clean_text(text):\n",
    "    ## Remove puncuation\n",
    "    text = text.translate(string.punctuation)\n",
    "    \n",
    "    ## Convert words to lower case and split them\n",
    "    text = text.lower().split()\n",
    "    \n",
    "    ## Remove stop words\n",
    "    stops = set(stopwords.words(\"english\"))\n",
    "    text = [w for w in text if not w in stops and len(w) >= 3]\n",
    "    \n",
    "    text = \" \".join(text)\n",
    "    \n",
    "    # Clean the text\n",
    "    text = re.sub(r\"[^A-Za-z0-9^,!.\\/'+-=]\", \" \", text)\n",
    "    text = re.sub(r\"what's\", \"what is \", text)\n",
    "    text = re.sub(r\"\\'s\", \" \", text)\n",
    "    text = re.sub(r\"\\'ve\", \" have \", text)\n",
    "    text = re.sub(r\"n't\", \" not \", text)\n",
    "    text = re.sub(r\"i'm\", \"i am \", text)\n",
    "    text = re.sub(r\"\\'re\", \" are \", text)\n",
    "    text = re.sub(r\"\\'d\", \" would \", text)\n",
    "    text = re.sub(r\"\\'ll\", \" will \", text)\n",
    "    text = re.sub(r\",\", \" \", text)\n",
    "    text = re.sub(r\"\\.\", \" \", text)\n",
    "    text = re.sub(r\"!\", \" ! \", text)\n",
    "    text = re.sub(r\"\\/\", \" \", text)\n",
    "    text = re.sub(r\"\\^\", \" ^ \", text)\n",
    "    text = re.sub(r\"\\+\", \" + \", text)\n",
    "    text = re.sub(r\"\\-\", \" - \", text)\n",
    "    text = re.sub(r\"\\=\", \" = \", text)\n",
    "    text = re.sub(r\"'\", \" \", text)\n",
    "    text = re.sub(r\"(\\d+)(k)\", r\"\\g<1>000\", text)\n",
    "    text = re.sub(r\":\", \" : \", text)\n",
    "    text = re.sub(r\" e g \", \" eg \", text)\n",
    "    text = re.sub(r\" b g \", \" bg \", text)\n",
    "    text = re.sub(r\" u s \", \" american \", text)\n",
    "    text = re.sub(r\"\\0s\", \"0\", text)\n",
    "    text = re.sub(r\" 9 11 \", \"911\", text)\n",
    "    text = re.sub(r\"e - mail\", \"email\", text)\n",
    "    text = re.sub(r\"j k\", \"jk\", text)\n",
    "    text = re.sub(r\"\\s{2,}\", \" \", text)    \n",
    "    return text"
   ]
  },
  {
   "cell_type": "code",
   "execution_count": 5,
   "metadata": {},
   "outputs": [],
   "source": [
    "yelp_data = df[['business_id', 'user_id', 'stars', 'text']]"
   ]
  },
  {
   "cell_type": "code",
   "execution_count": 6,
   "metadata": {},
   "outputs": [
    {
     "name": "stdout",
     "output_type": "stream",
     "text": [
      "CPU times: user 3.04 s, sys: 330 ms, total: 3.37 s\n",
      "Wall time: 3.4 s\n"
     ]
    },
    {
     "name": "stderr",
     "output_type": "stream",
     "text": [
      "/Users/sumithkumargannarapu/anaconda3/lib/python3.6/site-packages/ipykernel_launcher.py:1: SettingWithCopyWarning: \n",
      "A value is trying to be set on a copy of a slice from a DataFrame.\n",
      "Try using .loc[row_indexer,col_indexer] = value instead\n",
      "\n",
      "See the caveats in the documentation: http://pandas.pydata.org/pandas-docs/stable/indexing.html#indexing-view-versus-copy\n",
      "  \"\"\"Entry point for launching an IPython kernel.\n"
     ]
    }
   ],
   "source": [
    "%%time\n",
    "yelp_data['text'] = yelp_data['text'].apply(clean_text)"
   ]
  },
  {
   "cell_type": "code",
   "execution_count": 7,
   "metadata": {},
   "outputs": [],
   "source": [
    "userid_df = yelp_data[['user_id','text']]\n",
    "business_df = yelp_data[['business_id', 'text']]"
   ]
  },
  {
   "cell_type": "code",
   "execution_count": 8,
   "metadata": {},
   "outputs": [],
   "source": [
    "userid_df = userid_df.groupby('user_id').agg({'text': ' '.join})\n",
    "business_df = business_df.groupby('business_id').agg({'text': ' '.join})"
   ]
  },
  {
   "cell_type": "code",
   "execution_count": 9,
   "metadata": {},
   "outputs": [
    {
     "data": {
      "text/plain": [
       "(6403, 1000)"
      ]
     },
     "execution_count": 9,
     "metadata": {},
     "output_type": "execute_result"
    }
   ],
   "source": [
    "#userid vectorizer\n",
    "userid_vectorizer = TfidfVectorizer(tokenizer = WordPunctTokenizer().tokenize, max_features=1000)\n",
    "userid_vectors = userid_vectorizer.fit_transform(userid_df['text'])\n",
    "userid_vectors.shape\n",
    "# print(userid_vectors)\n",
    "# pd.DataFrame(userid_vectors.toarray(), columns=userid_vectorizer.get_feature_names())\n"
   ]
  },
  {
   "cell_type": "code",
   "execution_count": 10,
   "metadata": {},
   "outputs": [
    {
     "data": {
      "text/plain": [
       "(4174, 1000)"
      ]
     },
     "execution_count": 10,
     "metadata": {},
     "output_type": "execute_result"
    }
   ],
   "source": [
    "#Business id vectorizer\n",
    "businessid_vectorizer = TfidfVectorizer(tokenizer = WordPunctTokenizer().tokenize, max_features=1000)\n",
    "businessid_vectors = businessid_vectorizer.fit_transform(business_df['text'])\n",
    "businessid_vectors.shape"
   ]
  },
  {
   "cell_type": "markdown",
   "metadata": {},
   "source": [
    "# Matrix Factorization"
   ]
  },
  {
   "cell_type": "code",
   "execution_count": 11,
   "metadata": {},
   "outputs": [
    {
     "data": {
      "text/plain": [
       "(6403, 4174)"
      ]
     },
     "execution_count": 11,
     "metadata": {},
     "output_type": "execute_result"
    }
   ],
   "source": [
    "userid_rating_matrix = pd.pivot_table(yelp_data, values='stars', index=['user_id'], columns=['business_id'])\n",
    "userid_rating_matrix.shape"
   ]
  },
  {
   "cell_type": "code",
   "execution_count": 12,
   "metadata": {},
   "outputs": [],
   "source": [
    "P = pd.DataFrame(userid_vectors.toarray(), index=userid_df.index, columns=userid_vectorizer.get_feature_names())\n",
    "Q = pd.DataFrame(businessid_vectors.toarray(), index=business_df.index, columns=businessid_vectorizer.get_feature_names())\n"
   ]
  },
  {
   "cell_type": "code",
   "execution_count": 19,
   "metadata": {},
   "outputs": [],
   "source": [
    "def matrix_factorization(R, P, Q, steps=100, gamma=0.001,lamda=0.02):\n",
    "    for step in range(steps):\n",
    "        for i in R.index:\n",
    "            for j in R.columns:\n",
    "                if R.loc[i,j]>0:\n",
    "                    eij=R.loc[i,j]-np.dot(P.loc[i],Q.loc[j])\n",
    "                    P.loc[i]=P.loc[i]+gamma*(eij*Q.loc[j]-lamda*P.loc[i])\n",
    "                    Q.loc[j]=Q.loc[j]+gamma*(eij*P.loc[i]-lamda*Q.loc[j])\n",
    "        e=0\n",
    "        print('Hello')\n",
    "        for i in R.index:\n",
    "            for j in R.columns:\n",
    "                if R.loc[i,j]>0:\n",
    "                    #Sum of squares of the errors in the rating\n",
    "                    e= e + pow(R.loc[i,j]-np.dot(P.loc[i],Q.loc[j]),2)+lamda*(pow(np.linalg.norm(P.loc[i]),2)+pow(np.linalg.norm(Q.loc[j]),2))\n",
    "        print(e)\n",
    "        if e<0.001:\n",
    "            break\n",
    "        \n",
    "        print(step)\n",
    "    return P,Q\n"
   ]
  },
  {
   "cell_type": "code",
   "execution_count": 20,
   "metadata": {},
   "outputs": [
    {
     "name": "stdout",
     "output_type": "stream",
     "text": [
      "Hello\n",
      "94410.43066203894\n",
      "0\n",
      "Hello\n",
      "93381.72060093234\n",
      "1\n",
      "Hello\n",
      "92350.63352391933\n",
      "2\n",
      "Hello\n",
      "91317.81695811883\n",
      "3\n",
      "Hello\n",
      "90283.91629822039\n",
      "4\n",
      "Hello\n",
      "89249.57185507845\n",
      "5\n",
      "Hello\n",
      "88215.41603573406\n",
      "6\n",
      "Hello\n",
      "87182.07068339906\n",
      "7\n",
      "Hello\n",
      "86150.14460202609\n",
      "8\n",
      "Hello\n",
      "85120.23128572013\n",
      "9\n",
      "Hello\n",
      "84092.90686874308\n",
      "10\n",
      "Hello\n",
      "83068.72830728494\n",
      "11\n",
      "Hello\n",
      "82048.23179970503\n",
      "12\n",
      "Hello\n",
      "81031.93144763845\n",
      "13\n",
      "Hello\n",
      "80020.31815639765\n",
      "14\n",
      "Hello\n",
      "79013.85876952707\n",
      "15\n",
      "Hello\n",
      "78012.99542920396\n",
      "16\n",
      "Hello\n",
      "77018.14515152547\n",
      "17\n",
      "Hello\n",
      "76029.69960356972\n",
      "18\n",
      "Hello\n",
      "75048.02506743163\n",
      "19\n",
      "Hello\n",
      "74073.46257524427\n",
      "20\n",
      "Hello\n",
      "73106.3281984401\n",
      "21\n",
      "Hello\n",
      "72146.91347415502\n",
      "22\n",
      "Hello\n",
      "71195.48595165205\n",
      "23\n",
      "Hello\n",
      "70252.28984199131\n",
      "24\n",
      "Hello\n",
      "69317.54675466583\n",
      "25\n",
      "Hello\n",
      "68391.45650572582\n",
      "26\n",
      "Hello\n",
      "67474.19798280421\n",
      "27\n",
      "Hello\n",
      "66565.93005348009\n",
      "28\n",
      "Hello\n",
      "65666.79250452477\n",
      "29\n",
      "Hello\n",
      "64776.907000711806\n",
      "30\n",
      "Hello\n",
      "63896.37805302121\n",
      "31\n",
      "Hello\n",
      "63025.29398721684\n",
      "32\n",
      "Hello\n",
      "62163.7279048977\n",
      "33\n",
      "Hello\n",
      "61311.73863017446\n",
      "34\n",
      "Hello\n",
      "60469.37163616137\n",
      "35\n",
      "Hello\n",
      "59636.659946404325\n",
      "36\n",
      "Hello\n",
      "58813.62500726533\n",
      "37\n",
      "Hello\n",
      "58000.27752808284\n",
      "38\n",
      "Hello\n",
      "57196.618286667675\n",
      "39\n",
      "Hello\n",
      "56402.63889835875\n",
      "40\n",
      "Hello\n",
      "55618.322547458585\n",
      "41\n",
      "Hello\n",
      "54843.644680376\n",
      "42\n",
      "Hello\n",
      "54078.57366027502\n",
      "43\n",
      "Hello\n",
      "53323.07138341671\n",
      "44\n",
      "Hello\n",
      "52577.09385770475\n",
      "45\n",
      "Hello\n",
      "51840.59174424037\n",
      "46\n",
      "Hello\n",
      "51113.510862907584\n",
      "47\n",
      "Hello\n",
      "50395.79266320458\n",
      "48\n",
      "Hello\n",
      "49687.37466167599\n",
      "49\n",
      "Hello\n",
      "48988.190847395024\n",
      "50\n",
      "Hello\n",
      "48298.172057053285\n",
      "51\n",
      "Hello\n",
      "47617.24632121246\n",
      "52\n",
      "Hello\n",
      "46945.339183345124\n",
      "53\n",
      "Hello\n",
      "46282.37399325096\n",
      "54\n",
      "Hello\n",
      "45628.27217645332\n",
      "55\n",
      "Hello\n",
      "44982.95348111805\n",
      "56\n",
      "Hello\n",
      "44346.33620402398\n",
      "57\n",
      "Hello\n",
      "43718.337397046904\n",
      "58\n",
      "Hello\n",
      "43098.87305555781\n",
      "59\n",
      "Hello\n",
      "42487.858290089796\n",
      "60\n",
      "Hello\n",
      "41885.20748254375\n",
      "61\n",
      "Hello\n",
      "41290.834428144895\n",
      "62\n",
      "Hello\n",
      "40704.65246428716\n",
      "63\n",
      "Hello\n",
      "40126.5745873388\n",
      "64\n",
      "Hello\n",
      "39556.51355841014\n",
      "65\n",
      "Hello\n",
      "38994.381999011464\n",
      "66\n",
      "Hello\n",
      "38440.09247748154\n",
      "67\n",
      "Hello\n",
      "37893.557586989176\n",
      "68\n",
      "Hello\n",
      "37354.69001584916\n",
      "69\n",
      "Hello\n",
      "36823.40261085796\n",
      "70\n",
      "Hello\n",
      "36299.608434272006\n",
      "71\n",
      "Hello\n",
      "35783.220815026136\n",
      "72\n",
      "Hello\n",
      "35274.1533947225\n",
      "73\n",
      "Hello\n",
      "34772.32016889225\n",
      "74\n",
      "Hello\n",
      "34277.635523976656\n",
      "75\n",
      "Hello\n",
      "33790.01427044684\n",
      "76\n",
      "Hello\n",
      "33309.37167243289\n",
      "77\n",
      "Hello\n",
      "32835.623474216205\n",
      "78\n",
      "Hello\n",
      "32368.685923890196\n",
      "79\n",
      "Hello\n",
      "31908.475794480546\n",
      "80\n",
      "Hello\n",
      "31454.91040277841\n",
      "81\n",
      "Hello\n",
      "31007.907626126045\n",
      "82\n",
      "Hello\n",
      "30567.385917360043\n",
      "83\n",
      "Hello\n",
      "30133.26431811244\n",
      "84\n",
      "Hello\n",
      "29705.462470632046\n",
      "85\n",
      "Hello\n",
      "29283.900628290932\n",
      "86\n",
      "Hello\n",
      "28868.49966490609\n",
      "87\n",
      "Hello\n",
      "28459.18108300998\n",
      "88\n",
      "Hello\n",
      "28055.86702117409\n",
      "89\n",
      "Hello\n",
      "27658.480260492302\n",
      "90\n",
      "Hello\n",
      "27266.944230305606\n",
      "91\n",
      "Hello\n",
      "26881.183013253172\n",
      "92\n",
      "Hello\n",
      "26501.121349717352\n",
      "93\n",
      "Hello\n",
      "26126.684641723194\n",
      "94\n",
      "Hello\n",
      "25757.798956349914\n",
      "95\n",
      "Hello\n",
      "25394.391028697144\n",
      "96\n",
      "Hello\n",
      "25036.388264456134\n",
      "97\n",
      "Hello\n",
      "24683.71874211353\n",
      "98\n",
      "Hello\n",
      "24336.311214825448\n",
      "99\n",
      "CPU times: user 12h 45min 12s, sys: 1min 26s, total: 12h 46min 39s\n",
      "Wall time: 12h 52min 2s\n"
     ]
    }
   ],
   "source": [
    "%%time\n",
    "P, Q = matrix_factorization(userid_rating_matrix, P, Q, steps=100, gamma=0.001,lamda=0.02)"
   ]
  },
  {
   "cell_type": "code",
   "execution_count": 38,
   "metadata": {},
   "outputs": [
    {
     "data": {
      "text/plain": [
       "(4174, 1000)"
      ]
     },
     "execution_count": 38,
     "metadata": {},
     "output_type": "execute_result"
    }
   ],
   "source": []
  },
  {
   "cell_type": "code",
   "execution_count": 21,
   "metadata": {},
   "outputs": [
    {
     "data": {
      "text/html": [
       "<div>\n",
       "<style scoped>\n",
       "    .dataframe tbody tr th:only-of-type {\n",
       "        vertical-align: middle;\n",
       "    }\n",
       "\n",
       "    .dataframe tbody tr th {\n",
       "        vertical-align: top;\n",
       "    }\n",
       "\n",
       "    .dataframe thead th {\n",
       "        text-align: right;\n",
       "    }\n",
       "</style>\n",
       "<table border=\"1\" class=\"dataframe\">\n",
       "  <thead>\n",
       "    <tr style=\"text-align: right;\">\n",
       "      <th></th>\n",
       "      <th>Rating</th>\n",
       "    </tr>\n",
       "    <tr>\n",
       "      <th>business_id</th>\n",
       "      <th></th>\n",
       "    </tr>\n",
       "  </thead>\n",
       "  <tbody>\n",
       "    <tr>\n",
       "      <th>WNy1uzcmm_UHmTyR--o5IA</th>\n",
       "      <td>0.536477</td>\n",
       "    </tr>\n",
       "    <tr>\n",
       "      <th>vaabk6CYXX1dYVQ1xkyPUg</th>\n",
       "      <td>0.532536</td>\n",
       "    </tr>\n",
       "    <tr>\n",
       "      <th>OovMUso3GHEuvwDObeHy0Q</th>\n",
       "      <td>0.462432</td>\n",
       "    </tr>\n",
       "    <tr>\n",
       "      <th>R8VwdLyvsp9iybNqRvm94g</th>\n",
       "      <td>0.436837</td>\n",
       "    </tr>\n",
       "    <tr>\n",
       "      <th>GfMRsE7rYqNyfC6wUYZkzA</th>\n",
       "      <td>0.432662</td>\n",
       "    </tr>\n",
       "  </tbody>\n",
       "</table>\n",
       "</div>"
      ],
      "text/plain": [
       "                          Rating\n",
       "business_id                     \n",
       "WNy1uzcmm_UHmTyR--o5IA  0.536477\n",
       "vaabk6CYXX1dYVQ1xkyPUg  0.532536\n",
       "OovMUso3GHEuvwDObeHy0Q  0.462432\n",
       "R8VwdLyvsp9iybNqRvm94g  0.436837\n",
       "GfMRsE7rYqNyfC6wUYZkzA  0.432662"
      ]
     },
     "execution_count": 21,
     "metadata": {},
     "output_type": "execute_result"
    }
   ],
   "source": [
    "#Testing\n",
    "print('Predict for the given text')\n",
    "words = 'I am intrested in vegeterian restaruents and I want eat falafal oh my god'\n",
    "test_df= pd.DataFrame([words], columns=['text'])\n",
    "test_df['text'] = test_df['text'].apply(clean_text)\n",
    "test_vectors = userid_vectorizer.transform(test_df['text'])\n",
    "test_v_df = pd.DataFrame(test_vectors.toarray(), index=test_df.index, columns=userid_vectorizer.get_feature_names())\n",
    "\n",
    "predictItemRating=pd.DataFrame(np.dot(test_v_df.loc[0],Q.T),index=Q.index,columns=['Rating'])\n",
    "topRecommendations=pd.DataFrame.sort_values(predictItemRating,['Rating'],ascending=[0])[:3]\n",
    "topRecommendations\n"
   ]
  },
  {
   "cell_type": "code",
   "execution_count": 1,
   "metadata": {},
   "outputs": [
    {
     "ename": "NameError",
     "evalue": "name 'P' is not defined",
     "output_type": "error",
     "traceback": [
      "\u001b[0;31m---------------------------------------------------------------------------\u001b[0m",
      "\u001b[0;31mNameError\u001b[0m                                 Traceback (most recent call last)",
      "\u001b[0;32m<ipython-input-1-0855a84e8b5f>\u001b[0m in \u001b[0;36m<module>\u001b[0;34m\u001b[0m\n\u001b[1;32m      2\u001b[0m \u001b[0;32mimport\u001b[0m \u001b[0mpickle\u001b[0m\u001b[0;34m\u001b[0m\u001b[0m\n\u001b[1;32m      3\u001b[0m \u001b[0moutput\u001b[0m \u001b[0;34m=\u001b[0m \u001b[0mopen\u001b[0m\u001b[0;34m(\u001b[0m\u001b[0;34m'recommendation.pkl'\u001b[0m\u001b[0;34m,\u001b[0m \u001b[0;34m'wb'\u001b[0m\u001b[0;34m)\u001b[0m\u001b[0;34m\u001b[0m\u001b[0m\n\u001b[0;32m----> 4\u001b[0;31m \u001b[0mpickle\u001b[0m\u001b[0;34m.\u001b[0m\u001b[0mdump\u001b[0m\u001b[0;34m(\u001b[0m\u001b[0mP\u001b[0m\u001b[0;34m,\u001b[0m\u001b[0moutput\u001b[0m\u001b[0;34m)\u001b[0m\u001b[0;34m\u001b[0m\u001b[0m\n\u001b[0m\u001b[1;32m      5\u001b[0m \u001b[0mpickle\u001b[0m\u001b[0;34m.\u001b[0m\u001b[0mdump\u001b[0m\u001b[0;34m(\u001b[0m\u001b[0mQ\u001b[0m\u001b[0;34m,\u001b[0m\u001b[0moutput\u001b[0m\u001b[0;34m)\u001b[0m\u001b[0;34m\u001b[0m\u001b[0m\n\u001b[1;32m      6\u001b[0m \u001b[0mpickle\u001b[0m\u001b[0;34m.\u001b[0m\u001b[0mdump\u001b[0m\u001b[0;34m(\u001b[0m\u001b[0muserid_vectorizer\u001b[0m\u001b[0;34m,\u001b[0m\u001b[0moutput\u001b[0m\u001b[0;34m)\u001b[0m\u001b[0;34m\u001b[0m\u001b[0m\n",
      "\u001b[0;31mNameError\u001b[0m: name 'P' is not defined"
     ]
    }
   ],
   "source": [
    "#Store P, Q and vectorizer in pickle file\n",
    "import pickle\n",
    "output = open('recommendation.pkl', 'wb')\n",
    "pickle.dump(P,output)\n",
    "pickle.dump(Q,output)\n",
    "pickle.dump(userid_vectorizer,output)\n",
    "output.close()"
   ]
  },
  {
   "cell_type": "code",
   "execution_count": null,
   "metadata": {},
   "outputs": [],
   "source": []
  }
 ],
 "metadata": {
  "kernelspec": {
   "display_name": "Python 3",
   "language": "python",
   "name": "python3"
  },
  "language_info": {
   "codemirror_mode": {
    "name": "ipython",
    "version": 3
   },
   "file_extension": ".py",
   "mimetype": "text/x-python",
   "name": "python",
   "nbconvert_exporter": "python",
   "pygments_lexer": "ipython3",
   "version": "3.6.6"
  }
 },
 "nbformat": 4,
 "nbformat_minor": 2
}
